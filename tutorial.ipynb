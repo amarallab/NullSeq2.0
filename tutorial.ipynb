{
 "cells": [
  {
   "cell_type": "markdown",
   "metadata": {
    "collapsed": false
   },
   "source": [
    "##NullSeq2.0 is a python package that allowed the user to generate random coding DNA sequences with GC, amino acid, length and codon utilization constaints.\n",
    "This tutorial will teach you how to use the package.\n",
    "First, let's start by importing the package!"
   ]
  },
  {
   "cell_type": "code",
   "execution_count": 63,
   "metadata": {
    "collapsed": true
   },
   "outputs": [],
   "source": [
    "import sequence_creator as SC"
   ]
  },
  {
   "cell_type": "code",
   "execution_count": 64,
   "metadata": {
    "collapsed": true
   },
   "outputs": [],
   "source": [
    "#additional imports for visualizations\n",
    "import matplotlib.pyplot as plt\n",
    "import json\n",
    "import numpy as np\n",
    "import RandSeqEvaluationFunctions as RSEF\n",
    "%matplotlib inline"
   ]
  },
  {
   "cell_type": "markdown",
   "metadata": {
    "collapsed": false
   },
   "source": [
    "# Creating the Sequence Creator object \n",
    "The Sequence Creator object can take up to 6 different arguments:\n",
    "\n",
    "1. **codonnumber**: This is the number of different codons to be used in the creation of the random sequence. A codonnumber of 61 indicates that all codons are used; a codonnumber of 20 indicates that only one codon is used for the encoding of each amino acid. This argument is used to tune the amount of codon bias the user wishes their random sequence to have. The higher the number the lower amount of codon bias in the sequence.\n",
    "\n",
    "2. **length**: This is the length of the sequences to be generated. The input of this argument must be a number greater than 0. \n",
    "\n",
    "3. **size**: This is the number of random sequences to be generated. Each random sequence will have a random interaction of the codon table. The input of this argument must be a number greater than 0.\n",
    "\n",
    "4. **AA**: This is the desired amino acid composition of the sequence. This is an optional input and can be added later. If no AA composition is specificed here, then AA content of the sequences will not be constrained. \n",
    "\n",
    "5. **GC**: This is the desired GC content of the random sequences. This is an optional input and can be added later. If no GC content is specified here, then the GC content of the sequences will not be constrained.\n",
    "\n",
    "6. **n**: This is translation table that is to be used in the creation of the random sequences. The default value for n is 11.For more information about codon tables click [here](https://www.ncbi.nlm.nih.gov/Taxonomy/Utils/wprintgc.cgi)"
   ]
  },
  {
   "cell_type": "markdown",
   "metadata": {},
   "source": [
    "To initialized the object:"
   ]
  },
  {
   "cell_type": "code",
   "execution_count": 65,
   "metadata": {
    "collapsed": false
   },
   "outputs": [],
   "source": [
    "no_constraints = SC.Sequence_Creator(50, 2000, 1000)"
   ]
  },
  {
   "cell_type": "markdown",
   "metadata": {},
   "source": [
    "Here the sequences generates will have 50 codons, be 2000 codons in length, and will not have GC contents or AA contents constrained. Additionally, we will generate 100 of these sequences."
   ]
  },
  {
   "cell_type": "markdown",
   "metadata": {
    "collapsed": false
   },
   "source": [
    "To actually generate the sequences:"
   ]
  },
  {
   "cell_type": "code",
   "execution_count": 66,
   "metadata": {
    "collapsed": false
   },
   "outputs": [],
   "source": [
    "randseq_noconstraints = no_constraints.make_random_sequences()"
   ]
  },
  {
   "cell_type": "markdown",
   "metadata": {
    "collapsed": false,
    "scrolled": true
   },
   "source": [
    "Let's see how the GC contents of the seqeunces are distributed! "
   ]
  },
  {
   "cell_type": "code",
   "execution_count": 67,
   "metadata": {
    "collapsed": false
   },
   "outputs": [
    {
     "data": {
      "image/png": "[encoded data removed]",
      "text/plain": [
       "<matplotlib.figure.Figure at 0x7fe0cf07a7b8>"
      ]
     },
     "metadata": {},
     "output_type": "display_data"
    }
   ],
   "source": [
    "GCcontents_noconstraints = []\n",
    "for seq in randseq_noconstraints:\n",
    "    GCcontents_noconstraints.append(RSEF.get_GC_Freq(seq))\n",
    "plt.hist(GCcontents_noconstraints, 25, normed=1)\n",
    "plt.show()"
   ]
  },
  {
   "cell_type": "markdown",
   "metadata": {
    "collapsed": false
   },
   "source": [
    "To constrain the GC contents of the random sequences that are created?\n",
    "This can be done in one of two ways:\n",
    "1. using the add_GC function \n",
    "2. specifing the GC content on object initialization"
   ]
  },
  {
   "cell_type": "code",
   "execution_count": 68,
   "metadata": {
    "collapsed": true
   },
   "outputs": [],
   "source": [
    "#using the add_GC function\n",
    "GC_constraints1 = SC.Sequence_Creator(50, 2000, 1000)\n",
    "GC_constraints1.add_GC(0.56)\n",
    "randseq_GCconstraints1 = GC_constraints1.make_random_sequences()\n",
    "\n",
    "#specifing the GC content on object initialization\n",
    "GC_constraints2 = SC.Sequence_Creator(50, 2000, 1000, GC=0.56)\n",
    "randseq_GCconstraints2 = GC_constraints2.make_random_sequences()"
   ]
  },
  {
   "cell_type": "markdown",
   "metadata": {
    "collapsed": false
   },
   "source": [
    "Let's see how the GC contents of the seqeunces are distributed! "
   ]
  },
  {
   "cell_type": "code",
   "execution_count": 69,
   "metadata": {
    "collapsed": false
   },
   "outputs": [
    {
     "data": {
      "image/png": "[encoded data removed]",
      "text/plain": [
       "<matplotlib.figure.Figure at 0x7fe0ce75ccf8>"
      ]
     },
     "metadata": {},
     "output_type": "display_data"
    },
    {
     "name": "stdout",
     "output_type": "stream",
     "text": [
      "mean =  0.559987\n"
     ]
    },
    {
     "data": {
      "image/png": "[encoded data removed]",
      "text/plain": [
       "<matplotlib.figure.Figure at 0x7fe0ce3b6780>"
      ]
     },
     "metadata": {},
     "output_type": "display_data"
    },
    {
     "name": "stdout",
     "output_type": "stream",
     "text": [
      "mean =  0.560085\n"
     ]
    }
   ],
   "source": [
    "GCcontents_GC_constraints1 = []\n",
    "for seq in randseq_GCconstraints1:\n",
    "    GCcontents_GC_constraints1.append(RSEF.get_GC_Freq(seq))\n",
    "plt.hist(GCcontents_GC_constraints1, 25, normed=1)\n",
    "plt.show()\n",
    "print('mean = ', np.mean(GCcontents_GC_constraints1))\n",
    "\n",
    "GCcontents_GC_constraints2 = []\n",
    "for seq in randseq_GCconstraints2:\n",
    "    GCcontents_GC_constraints2.append(RSEF.get_GC_Freq(seq))\n",
    "plt.hist(GCcontents_GC_constraints2, 25, normed=1)\n",
    "plt.show()\n",
    "print('mean = ', np.mean(GCcontents_GC_constraints2))\n"
   ]
  },
  {
   "cell_type": "markdown",
   "metadata": {
    "collapsed": true
   },
   "source": [
    "Notice how the variance assoicated with the GC content of the sequences is much smaller when it is constrained, and the mean is at the specified GC content."
   ]
  },
  {
   "cell_type": "markdown",
   "metadata": {},
   "source": [
    "The amino acid content of the sequence can also be specified in a simliar fashion:\n",
    "1. using the add_pAA function \n",
    "2. specifing the AA content on object initialization"
   ]
  },
  {
   "cell_type": "code",
   "execution_count": 70,
   "metadata": {
    "collapsed": true
   },
   "outputs": [],
   "source": [
    "# loading random AA distribution:\n",
    "with open('./tutorial_data/AA.json', 'r') as f:\n",
    "    AAfreq = json.load(f)"
   ]
  },
  {
   "cell_type": "code",
   "execution_count": 71,
   "metadata": {
    "collapsed": false
   },
   "outputs": [],
   "source": [
    "#using the add_GC function\n",
    "AA_constraints1 = SC.Sequence_Creator(50, 2000, 1000)\n",
    "AA_constraints1.add_pAA(AAfreq)\n",
    "randseq_AAconstraints1 = AA_constraints1.make_random_sequences()\n",
    "\n",
    "#specifing the GC content on object initialization\n",
    "AA_constraints2 = SC.Sequence_Creator(50, 2000, 1000, AA=AAfreq)\n",
    "randseq_AAconstraints2 = AA_constraints2.make_random_sequences()"
   ]
  },
  {
   "cell_type": "markdown",
   "metadata": {},
   "source": [
    "Both amino acid content and GC content of the sequence can be specified in a simliar fashion:\n",
    "1. using the add_pAA function and the add_GC function\n",
    "2. specifing the AA content and GC content on object initialization"
   ]
  },
  {
   "cell_type": "code",
   "execution_count": 72,
   "metadata": {
    "collapsed": false
   },
   "outputs": [],
   "source": [
    "#using the add_GC function\n",
    "AAGC_constraints1 = SC.Sequence_Creator(50, 2000, 1000)\n",
    "AAGC_constraints1.add_pAA(AAfreq)\n",
    "AAGC_constraints1.add_GC(0.56)\n",
    "randseq_AAconstraints1 = AAGC_constraints1.make_random_sequences()\n",
    "\n",
    "#specifing the GC content on object initialization\n",
    "AAGC_constraints2 = SC.Sequence_Creator(50, 2000, 1000, AA=AAfreq, GC=0.56)\n",
    "randseq_AAGCconstraints2 = AAGC_constraints2.make_random_sequences()"
   ]
  }
 ],
 "metadata": {
  "kernelspec": {
   "display_name": "Python 3",
   "language": "python",
   "name": "python3"
  },
  "language_info": {
   "codemirror_mode": {
    "name": "ipython",
    "version": 3
   },
   "file_extension": ".py",
   "mimetype": "text/x-python",
   "name": "python",
   "nbconvert_exporter": "python",
   "pygments_lexer": "ipython3",
   "version": "3.4.1"
  }
 },
 "nbformat": 4,
 "nbformat_minor": 0
}
